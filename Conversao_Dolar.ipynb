{
  "nbformat": 4,
  "nbformat_minor": 0,
  "metadata": {
    "colab": {
      "name": "Untitled2.ipynb",
      "provenance": [],
      "authorship_tag": "ABX9TyNw9DZ9IGGbvIn3ftLvpRPJ",
      "include_colab_link": true
    },
    "kernelspec": {
      "name": "python3",
      "display_name": "Python 3"
    },
    "language_info": {
      "name": "python"
    }
  },
  "cells": [
    {
      "cell_type": "markdown",
      "metadata": {
        "id": "view-in-github",
        "colab_type": "text"
      },
      "source": [
        "<a href=\"https://colab.research.google.com/github/luizaraujo/imagensFla/blob/master/Conversao_Dolar.ipynb\" target=\"_parent\"><img src=\"https://colab.research.google.com/assets/colab-badge.svg\" alt=\"Open In Colab\"/></a>"
      ]
    },
    {
      "cell_type": "code",
      "metadata": {
        "colab": {
          "base_uri": "https://localhost:8080/"
        },
        "id": "Pf7Uv71tAnvY",
        "outputId": "c9c8c7e2-c897-4bae-f5bd-fd84cb8416ad"
      },
      "source": [
        "cotacao_dolar = 5.51\n",
        "valor_real = float(input('Qual o valor a ser convertido? (Em Dolar '))\n",
        "valor_convertido = cotacao_dolar * valor_real\n",
        "print(f'O valor convertido é de {valor_convertido:.2f} reais!')"
      ],
      "execution_count": 9,
      "outputs": [
        {
          "output_type": "stream",
          "name": "stdout",
          "text": [
            "Qual o valor a ser convertido? (Em Dolar 13.48\n",
            "O valor convertido é de 74.27 reais!\n"
          ]
        }
      ]
    }
  ]
}